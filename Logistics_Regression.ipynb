{
 "cells": [
  {
   "cell_type": "code",
   "execution_count": 1,
   "metadata": {},
   "outputs": [],
   "source": [
    "%config IPCompleter.greedy=True"
   ]
  },
  {
   "cell_type": "code",
   "execution_count": 2,
   "metadata": {},
   "outputs": [],
   "source": [
    "import torch\n",
    "from torch import nn \n",
    "import numpy as np\n",
    "import matplotlib.pyplot as plt"
   ]
  },
  {
   "cell_type": "code",
   "execution_count": 3,
   "metadata": {},
   "outputs": [],
   "source": [
    "X = torch.linspace(1,50,50).reshape(-1,1)"
   ]
  },
  {
   "cell_type": "code",
   "execution_count": 4,
   "metadata": {},
   "outputs": [
    {
     "data": {
      "text/plain": [
       "tensor([[ 1.],\n",
       "        [ 2.],\n",
       "        [ 3.],\n",
       "        [ 4.],\n",
       "        [ 5.],\n",
       "        [ 6.],\n",
       "        [ 7.],\n",
       "        [ 8.],\n",
       "        [ 9.],\n",
       "        [10.],\n",
       "        [11.],\n",
       "        [12.],\n",
       "        [13.],\n",
       "        [14.],\n",
       "        [15.],\n",
       "        [16.],\n",
       "        [17.],\n",
       "        [18.],\n",
       "        [19.],\n",
       "        [20.],\n",
       "        [21.],\n",
       "        [22.],\n",
       "        [23.],\n",
       "        [24.],\n",
       "        [25.],\n",
       "        [26.],\n",
       "        [27.],\n",
       "        [28.],\n",
       "        [29.],\n",
       "        [30.],\n",
       "        [31.],\n",
       "        [32.],\n",
       "        [33.],\n",
       "        [34.],\n",
       "        [35.],\n",
       "        [36.],\n",
       "        [37.],\n",
       "        [38.],\n",
       "        [39.],\n",
       "        [40.],\n",
       "        [41.],\n",
       "        [42.],\n",
       "        [43.],\n",
       "        [44.],\n",
       "        [45.],\n",
       "        [46.],\n",
       "        [47.],\n",
       "        [48.],\n",
       "        [49.],\n",
       "        [50.]])"
      ]
     },
     "execution_count": 4,
     "metadata": {},
     "output_type": "execute_result"
    }
   ],
   "source": [
    "X"
   ]
  },
  {
   "cell_type": "code",
   "execution_count": 5,
   "metadata": {},
   "outputs": [],
   "source": [
    "torch.manual_seed(71)\n",
    "e = torch.randint(-8,9,(50,1),dtype=torch.float)"
   ]
  },
  {
   "cell_type": "code",
   "execution_count": 6,
   "metadata": {
    "collapsed": true
   },
   "outputs": [
    {
     "data": {
      "text/plain": [
       "tensor([[ 2.],\n",
       "        [ 7.],\n",
       "        [ 2.],\n",
       "        [ 6.],\n",
       "        [ 2.],\n",
       "        [-4.],\n",
       "        [ 2.],\n",
       "        [-5.],\n",
       "        [ 4.],\n",
       "        [ 1.],\n",
       "        [ 2.],\n",
       "        [ 3.],\n",
       "        [ 1.],\n",
       "        [-8.],\n",
       "        [ 5.],\n",
       "        [ 5.],\n",
       "        [-6.],\n",
       "        [ 0.],\n",
       "        [-7.],\n",
       "        [-8.],\n",
       "        [-3.],\n",
       "        [-1.],\n",
       "        [ 2.],\n",
       "        [-6.],\n",
       "        [-3.],\n",
       "        [ 3.],\n",
       "        [ 2.],\n",
       "        [ 3.],\n",
       "        [ 4.],\n",
       "        [ 5.],\n",
       "        [ 1.],\n",
       "        [ 7.],\n",
       "        [ 6.],\n",
       "        [-1.],\n",
       "        [-6.],\n",
       "        [-5.],\n",
       "        [-3.],\n",
       "        [ 7.],\n",
       "        [ 0.],\n",
       "        [ 8.],\n",
       "        [-1.],\n",
       "        [-2.],\n",
       "        [ 2.],\n",
       "        [-8.],\n",
       "        [-1.],\n",
       "        [ 6.],\n",
       "        [-8.],\n",
       "        [-3.],\n",
       "        [-7.],\n",
       "        [-2.]])"
      ]
     },
     "execution_count": 6,
     "metadata": {},
     "output_type": "execute_result"
    }
   ],
   "source": [
    "e"
   ]
  },
  {
   "cell_type": "code",
   "execution_count": 7,
   "metadata": {},
   "outputs": [],
   "source": [
    "y = 2*X + 1 + e"
   ]
  },
  {
   "cell_type": "code",
   "execution_count": 8,
   "metadata": {
    "collapsed": true
   },
   "outputs": [
    {
     "name": "stdout",
     "output_type": "stream",
     "text": [
      "tensor([[ 5.],\n",
      "        [12.],\n",
      "        [ 9.],\n",
      "        [15.],\n",
      "        [13.],\n",
      "        [ 9.],\n",
      "        [17.],\n",
      "        [12.],\n",
      "        [23.],\n",
      "        [22.],\n",
      "        [25.],\n",
      "        [28.],\n",
      "        [28.],\n",
      "        [21.],\n",
      "        [36.],\n",
      "        [38.],\n",
      "        [29.],\n",
      "        [37.],\n",
      "        [32.],\n",
      "        [33.],\n",
      "        [40.],\n",
      "        [44.],\n",
      "        [49.],\n",
      "        [43.],\n",
      "        [48.],\n",
      "        [56.],\n",
      "        [57.],\n",
      "        [60.],\n",
      "        [63.],\n",
      "        [66.],\n",
      "        [64.],\n",
      "        [72.],\n",
      "        [73.],\n",
      "        [68.],\n",
      "        [65.],\n",
      "        [68.],\n",
      "        [72.],\n",
      "        [84.],\n",
      "        [79.],\n",
      "        [89.],\n",
      "        [82.],\n",
      "        [83.],\n",
      "        [89.],\n",
      "        [81.],\n",
      "        [90.],\n",
      "        [99.],\n",
      "        [87.],\n",
      "        [94.],\n",
      "        [92.],\n",
      "        [99.]])\n"
     ]
    }
   ],
   "source": [
    "print(y)"
   ]
  },
  {
   "cell_type": "code",
   "execution_count": 9,
   "metadata": {},
   "outputs": [
    {
     "data": {
      "text/plain": [
       "torch.Size([50, 1])"
      ]
     },
     "execution_count": 9,
     "metadata": {},
     "output_type": "execute_result"
    }
   ],
   "source": [
    "y.shape\n"
   ]
  },
  {
   "cell_type": "code",
   "execution_count": null,
   "metadata": {},
   "outputs": [],
   "source": []
  },
  {
   "cell_type": "code",
   "execution_count": 10,
   "metadata": {},
   "outputs": [
    {
     "data": {
      "text/plain": [
       "<matplotlib.collections.PathCollection at 0x7f6bc72636a0>"
      ]
     },
     "execution_count": 10,
     "metadata": {},
     "output_type": "execute_result"
    },
    {
     "data": {
      "image/png": "[encoded data removed]",
      "text/plain": [
       "<Figure size 432x288 with 1 Axes>"
      ]
     },
     "metadata": {
      "needs_background": "light"
     },
     "output_type": "display_data"
    }
   ],
   "source": [
    "plt.scatter(X.numpy(), y.numpy())\n"
   ]
  },
  {
   "cell_type": "code",
   "execution_count": 11,
   "metadata": {},
   "outputs": [
    {
     "name": "stdout",
     "output_type": "stream",
     "text": [
      "Parameter containing:\n",
      "tensor([[0.1060]], requires_grad=True)\n",
      "Parameter containing:\n",
      "tensor([0.9638], requires_grad=True)\n"
     ]
    }
   ],
   "source": [
    "torch.manual_seed(59)\n",
    "\n",
    "model = nn.Linear(in_features = 1 , out_features = 1)\n",
    "print(model.weight)\n",
    "print(model.bias)"
   ]
  },
  {
   "cell_type": "code",
   "execution_count": 12,
   "metadata": {},
   "outputs": [],
   "source": [
    "class Model (nn.Module):\n",
    "    \n",
    "    def __init__(self, in_features,out_features):\n",
    "        \n",
    "        super().__init__()\n",
    "        self.linear = nn.Linear(in_features,out_features)\n",
    "        \n",
    "    def forward(self,nidhi_examples):\n",
    "        y_pred = self.linear(nidhi_examples)\n",
    "        return y_pred"
   ]
  },
  {
   "cell_type": "code",
   "execution_count": 13,
   "metadata": {},
   "outputs": [
    {
     "name": "stdout",
     "output_type": "stream",
     "text": [
      "Parameter containing:\n",
      "tensor([[0.1060]], requires_grad=True)\n",
      "Parameter containing:\n",
      "tensor([0.9638], requires_grad=True)\n"
     ]
    }
   ],
   "source": [
    "torch.manual_seed(59)\n",
    "\n",
    "model = Model(1,1)\n",
    "\n",
    "print(model.linear.weight)\n",
    "print(model.linear.bias)"
   ]
  },
  {
   "cell_type": "code",
   "execution_count": 14,
   "metadata": {},
   "outputs": [
    {
     "name": "stdout",
     "output_type": "stream",
     "text": [
      "linear.weight \t 0.10597813129425049\n",
      "linear.bias \t 0.9637961387634277\n"
     ]
    }
   ],
   "source": [
    "for name,param in model.named_parameters():\n",
    "    print(name, '\\t', param.item())\n",
    "    \n",
    "    \n",
    "    "
   ]
  },
  {
   "cell_type": "code",
   "execution_count": 15,
   "metadata": {},
   "outputs": [
    {
     "name": "stdout",
     "output_type": "stream",
     "text": [
      "tensor([1.1758], grad_fn=<AddBackward0>)\n"
     ]
    }
   ],
   "source": [
    "x = torch.tensor([2.0])\n",
    "print(model.forward(x))"
   ]
  },
  {
   "cell_type": "code",
   "execution_count": 16,
   "metadata": {},
   "outputs": [],
   "source": [
    "x1 = np.linspace(0.0,50.0,50)"
   ]
  },
  {
   "cell_type": "code",
   "execution_count": 17,
   "metadata": {},
   "outputs": [
    {
     "data": {
      "text/plain": [
       "array([ 0.        ,  1.02040816,  2.04081633,  3.06122449,  4.08163265,\n",
       "        5.10204082,  6.12244898,  7.14285714,  8.16326531,  9.18367347,\n",
       "       10.20408163, 11.2244898 , 12.24489796, 13.26530612, 14.28571429,\n",
       "       15.30612245, 16.32653061, 17.34693878, 18.36734694, 19.3877551 ,\n",
       "       20.40816327, 21.42857143, 22.44897959, 23.46938776, 24.48979592,\n",
       "       25.51020408, 26.53061224, 27.55102041, 28.57142857, 29.59183673,\n",
       "       30.6122449 , 31.63265306, 32.65306122, 33.67346939, 34.69387755,\n",
       "       35.71428571, 36.73469388, 37.75510204, 38.7755102 , 39.79591837,\n",
       "       40.81632653, 41.83673469, 42.85714286, 43.87755102, 44.89795918,\n",
       "       45.91836735, 46.93877551, 47.95918367, 48.97959184, 50.        ])"
      ]
     },
     "execution_count": 17,
     "metadata": {},
     "output_type": "execute_result"
    }
   ],
   "source": [
    "x1\n"
   ]
  },
  {
   "cell_type": "code",
   "execution_count": 18,
   "metadata": {},
   "outputs": [],
   "source": [
    "w1 = 0.1059\n",
    "b1 = 0.9637\n",
    "\n",
    "y1 = w1*x1 + b1"
   ]
  },
  {
   "cell_type": "code",
   "execution_count": 19,
   "metadata": {},
   "outputs": [
    {
     "data": {
      "text/plain": [
       "array([0.9637    , 1.07176122, 1.17982245, 1.28788367, 1.3959449 ,\n",
       "       1.50400612, 1.61206735, 1.72012857, 1.8281898 , 1.93625102,\n",
       "       2.04431224, 2.15237347, 2.26043469, 2.36849592, 2.47655714,\n",
       "       2.58461837, 2.69267959, 2.80074082, 2.90880204, 3.01686327,\n",
       "       3.12492449, 3.23298571, 3.34104694, 3.44910816, 3.55716939,\n",
       "       3.66523061, 3.77329184, 3.88135306, 3.98941429, 4.09747551,\n",
       "       4.20553673, 4.31359796, 4.42165918, 4.52972041, 4.63778163,\n",
       "       4.74584286, 4.85390408, 4.96196531, 5.07002653, 5.17808776,\n",
       "       5.28614898, 5.3942102 , 5.50227143, 5.61033265, 5.71839388,\n",
       "       5.8264551 , 5.93451633, 6.04257755, 6.15063878, 6.2587    ])"
      ]
     },
     "execution_count": 19,
     "metadata": {},
     "output_type": "execute_result"
    }
   ],
   "source": [
    "y1"
   ]
  },
  {
   "cell_type": "code",
   "execution_count": 20,
   "metadata": {},
   "outputs": [
    {
     "data": {
      "text/plain": [
       "[<matplotlib.lines.Line2D at 0x7f6bc71d63c8>]"
      ]
     },
     "execution_count": 20,
     "metadata": {},
     "output_type": "execute_result"
    },
    {
     "data": {
      "image/png": "[encoded data removed]",
      "text/plain": [
       "<Figure size 432x288 with 1 Axes>"
      ]
     },
     "metadata": {
      "needs_background": "light"
     },
     "output_type": "display_data"
    }
   ],
   "source": [
    "plt.scatter(X.numpy(), y.numpy())\n",
    "\n",
    "plt.plot(x1,y1, 'y')"
   ]
  },
  {
   "cell_type": "code",
   "execution_count": 21,
   "metadata": {},
   "outputs": [],
   "source": [
    "criterion = nn.MSELoss()"
   ]
  },
  {
   "cell_type": "code",
   "execution_count": 22,
   "metadata": {},
   "outputs": [],
   "source": [
    "optimizer = torch.optim.SGD(model.parameters(),lr = 0.001)"
   ]
  },
  {
   "cell_type": "code",
   "execution_count": 24,
   "metadata": {},
   "outputs": [
    {
     "name": "stdout",
     "output_type": "stream",
     "text": [
      "torch.Size([500, 1])\n",
      "epoch 1 loss: 56.33768844604492\n",
      "epoch 2 loss: 50.886959075927734\n",
      "epoch 3 loss: 46.101097106933594\n",
      "epoch 4 loss: 41.898948669433594\n",
      "epoch 5 loss: 38.209251403808594\n",
      "epoch 6 loss: 34.969451904296875\n",
      "epoch 7 loss: 32.124629974365234\n",
      "epoch 8 loss: 29.626575469970703\n",
      "epoch 9 loss: 27.432952880859375\n",
      "epoch 10 loss: 25.506603240966797\n",
      "epoch 11 loss: 23.814897537231445\n",
      "epoch 12 loss: 22.329198837280273\n",
      "epoch 13 loss: 21.02435302734375\n",
      "epoch 14 loss: 19.87828826904297\n",
      "epoch 15 loss: 18.87162208557129\n",
      "epoch 16 loss: 17.987335205078125\n",
      "epoch 17 loss: 17.210491180419922\n",
      "epoch 18 loss: 16.527976989746094\n",
      "epoch 19 loss: 15.928272247314453\n",
      "epoch 20 loss: 15.401273727416992\n",
      "epoch 21 loss: 14.938104629516602\n",
      "epoch 22 loss: 14.530973434448242\n",
      "epoch 23 loss: 14.173040390014648\n",
      "epoch 24 loss: 13.85830020904541\n",
      "epoch 25 loss: 13.581480979919434\n",
      "epoch 26 loss: 13.337953567504883\n",
      "epoch 27 loss: 13.12365436553955\n",
      "epoch 28 loss: 12.935016632080078\n",
      "epoch 29 loss: 12.76890754699707\n",
      "epoch 30 loss: 12.622576713562012\n",
      "epoch 31 loss: 12.493611335754395\n",
      "epoch 32 loss: 12.379892349243164\n",
      "epoch 33 loss: 12.279557228088379\n",
      "epoch 34 loss: 12.190974235534668\n",
      "epoch 35 loss: 12.11270809173584\n",
      "epoch 36 loss: 12.043501853942871\n",
      "epoch 37 loss: 11.982247352600098\n",
      "epoch 38 loss: 11.92797565460205\n",
      "epoch 39 loss: 11.87983512878418\n",
      "epoch 40 loss: 11.837076187133789\n",
      "epoch 41 loss: 11.799044609069824\n",
      "epoch 42 loss: 11.765161514282227\n",
      "epoch 43 loss: 11.734922409057617\n",
      "epoch 44 loss: 11.707881927490234\n",
      "epoch 45 loss: 11.683650970458984\n",
      "epoch 46 loss: 11.661886215209961\n",
      "epoch 47 loss: 11.642287254333496\n",
      "epoch 48 loss: 11.624589920043945\n",
      "epoch 49 loss: 11.608562469482422\n",
      "epoch 50 loss: 11.594001770019531\n"
     ]
    }
   ],
   "source": [
    "epochs = 50 \n",
    "losses = []\n",
    "nb_features = 1\n",
    "X = torch.from_numpy(np.random.randint(1,10,size=(500,nb_features))).float()\n",
    "torch.manual_seed(123)\n",
    "y = torch.from_numpy(np.random.randint(1,10,size=(500,1))).float()\n",
    "print(y.shape)\n",
    "\n",
    "model = Model(nb_features,1)\n",
    "optimizer = torch.optim.SGD(model.parameters(),lr = 0.001)\n",
    "\n",
    "for i in range(epochs): # for i in [0,1,2,3,4,5 ... 49]\n",
    "    \n",
    "    i = i + 1 \n",
    "    \n",
    "    y_pred = model.forward(X)\n",
    "    \n",
    "    loss = criterion(y_pred, y)\n",
    "    \n",
    "    losses.append(loss)\n",
    "    \n",
    "    print(f\"epoch {i} loss: {loss.item()}\")\n",
    "    #print(f\"epoch {i} loss : {loss.item()} weight: {model.linear.weight.item()} bias: {model.linear.bias.item()}\")\n",
    "    \n",
    "          \n",
    "    optimizer.zero_grad() # removes previous values\n",
    "          \n",
    "    loss.backward() # takes derivative and compute gradient values\n",
    "    optimizer.step() # this is theta_t+1 = theta_t - lr * gradient values\n",
    "          \n"
   ]
  },
  {
   "cell_type": "code",
   "execution_count": 25,
   "metadata": {},
   "outputs": [
    {
     "data": {
      "text/plain": [
       "Text(0.5, 0, 'Epoch')"
      ]
     },
     "execution_count": 25,
     "metadata": {},
     "output_type": "execute_result"
    },
    {
     "data": {
      "image/png": "[encoded data removed]",
      "text/plain": [
       "<Figure size 432x288 with 1 Axes>"
      ]
     },
     "metadata": {
      "needs_background": "light"
     },
     "output_type": "display_data"
    }
   ],
   "source": [
    "plt.plot(range(epochs),losses)\n",
    "plt.ylabel('MSE LOSS')\n",
    "plt.xlabel('Epoch')\n"
   ]
  },
  {
   "cell_type": "code",
   "execution_count": 26,
   "metadata": {},
   "outputs": [
    {
     "name": "stdout",
     "output_type": "stream",
     "text": [
      "(50,)\n",
      "[0.31513837]\n",
      "(1, 1)\n",
      "(1,)\n"
     ]
    }
   ],
   "source": [
    "x = np.linspace(0.0,50.0,50)\n",
    "print(x.shape)\n",
    "current_weight = model.linear.weight.detach().numpy()\n",
    "current_bias = model.linear.bias.detach().numpy()\n",
    "print(current_bias)\n",
    "print(current_weight.shape)\n",
    "print(current_bias.shape)\n",
    "predicted_y = current_weight * x + current_bias"
   ]
  },
  {
   "cell_type": "code",
   "execution_count": 27,
   "metadata": {},
   "outputs": [
    {
     "data": {
      "text/plain": [
       "array([[ 0.31513837,  1.03510494,  1.75507151,  2.47503809,  3.19500466,\n",
       "         3.91497123,  4.6349378 ,  5.35490437,  6.07487095,  6.79483752,\n",
       "         7.51480409,  8.23477066,  8.95473724,  9.67470381, 10.39467038,\n",
       "        11.11463695, 11.83460352, 12.5545701 , 13.27453667, 13.99450324,\n",
       "        14.71446981, 15.43443639, 16.15440296, 16.87436953, 17.5943361 ,\n",
       "        18.31430267, 19.03426925, 19.75423582, 20.47420239, 21.19416896,\n",
       "        21.91413553, 22.63410211, 23.35406868, 24.07403525, 24.79400182,\n",
       "        25.5139684 , 26.23393497, 26.95390154, 27.67386811, 28.39383468,\n",
       "        29.11380126, 29.83376783, 30.5537344 , 31.27370097, 31.99366754,\n",
       "        32.71363412, 33.43360069, 34.15356726, 34.87353383, 35.59350041]])"
      ]
     },
     "execution_count": 27,
     "metadata": {},
     "output_type": "execute_result"
    }
   ],
   "source": [
    "predicted_y"
   ]
  },
  {
   "cell_type": "markdown",
   "metadata": {},
   "source": [
    "#plt.scatter(X.numpy(), y.numpy())\n",
    "plt.plot(x,predicted_y,'r')"
   ]
  },
  {
   "cell_type": "code",
   "execution_count": null,
   "metadata": {},
   "outputs": [],
   "source": []
  },
  {
   "cell_type": "code",
   "execution_count": null,
   "metadata": {},
   "outputs": [],
   "source": []
  }
 ],
 "metadata": {
  "kernelspec": {
   "display_name": "Python 3",
   "language": "python",
   "name": "python3"
  },
  "language_info": {
   "codemirror_mode": {
    "name": "ipython",
    "version": 3
   },
   "file_extension": ".py",
   "mimetype": "text/x-python",
   "name": "python",
   "nbconvert_exporter": "python",
   "pygments_lexer": "ipython3",
   "version": "3.7.3"
  }
 },
 "nbformat": 4,
 "nbformat_minor": 2
}
